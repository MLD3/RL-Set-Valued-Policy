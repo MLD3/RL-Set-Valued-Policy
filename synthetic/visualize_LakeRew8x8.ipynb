{
 "cells": [
  {
   "cell_type": "code",
   "execution_count": null,
   "metadata": {},
   "outputs": [],
   "source": [
    "%load_ext autoreload\n",
    "%autoreload 2"
   ]
  },
  {
   "cell_type": "markdown",
   "metadata": {},
   "source": [
    "Note: requires contents in `output_lake8x8/`, which is produced by running this script -> "
   ]
  },
  {
   "cell_type": "code",
   "execution_count": 2,
   "metadata": {},
   "outputs": [],
   "source": [
    "import numpy as np\n",
    "import pandas as pd\n",
    "import pickle, itertools"
   ]
  },
  {
   "cell_type": "code",
   "execution_count": 3,
   "metadata": {},
   "outputs": [],
   "source": [
    "import matplotlib.pyplot as plt\n",
    "import matplotlib.patches as patches\n",
    "from matplotlib import collections  as mc"
   ]
  },
  {
   "cell_type": "code",
   "execution_count": 4,
   "metadata": {},
   "outputs": [
    {
     "data": {
      "image/png": "[encoded data removed]",
      "text/plain": [
       "<Figure size 216x216 with 1 Axes>"
      ]
     },
     "metadata": {
      "needs_background": "light"
     },
     "output_type": "display_data"
    }
   ],
   "source": [
    "fig, ax = plt.subplots(figsize=(3,3))\n",
    "plt.xlim(0,8)\n",
    "plt.ylim(0,8)\n",
    "plt.grid(c='k')\n",
    "plt.xticks([0,1,2,3,4,5,6,7,8])\n",
    "plt.yticks([0,1,2,3,4,5,6,7,8])\n",
    "ax.set_xticklabels([])\n",
    "ax.set_yticklabels([])\n",
    "ax.tick_params(length=0)\n",
    "plt.text(0.5, 7.5, 'S', fontsize=18, ha='center', va='center')\n",
    "plt.text(7.5, 0.5, 'G', fontsize=18, ha='center', va='center')\n",
    "\n",
    "for hole in [\n",
    "    (1,1), (1,2),\n",
    "    (2,2),\n",
    "    (3,0), (3,3), (3,5),\n",
    "    (4,1), (5,4), (6,1), (6,2),\n",
    "]:\n",
    "    rect = patches.Rectangle(hole,1,1,linewidth=1,edgecolor='k',facecolor='k')\n",
    "    ax.add_patch(rect)\n",
    "\n",
    "plt.savefig('figures/lake8x8.pdf')\n",
    "plt.show()"
   ]
  },
  {
   "cell_type": "markdown",
   "metadata": {},
   "source": [
    "## Load environment and learned policies"
   ]
  },
  {
   "cell_type": "code",
   "execution_count": 5,
   "metadata": {},
   "outputs": [],
   "source": [
    "zeta_range = [0.0, 0.01, 0.02, 0.03, 0.04, 0.05, 0.06]#, 0.07, 0.08, 0.09, 0.10, 0.11, 0.12]"
   ]
  },
  {
   "cell_type": "code",
   "execution_count": 6,
   "metadata": {},
   "outputs": [],
   "source": [
    "from lib import envs, algos, helpers\n",
    "from lib.envs import FrozenLakeEnv_slip_rand_reward\n",
    "from lib.envs import LEFT, RIGHT, UP, DOWN\n",
    "from lib.helpers import np_exclude"
   ]
  },
  {
   "cell_type": "code",
   "execution_count": 7,
   "metadata": {},
   "outputs": [],
   "source": [
    "np.random.seed(42)\n",
    "env = FrozenLakeEnv_slip_rand_reward(\n",
    "    map_name=\"8x8\", \n",
    "    slip_prob=0.0,\n",
    "    reward_modifier = [0.000, 0.001, 0.002, 0.003],\n",
    ")\n",
    "nS, nA = env.nS, env.nA\n",
    "S_terminal = env.S_terminal"
   ]
  },
  {
   "cell_type": "code",
   "execution_count": 8,
   "metadata": {},
   "outputs": [],
   "source": [
    "with open('output_lake8x8/frozenlake_8x8_rrew.Q.pkl', 'rb') as f:\n",
    "    tmp = pickle.load(f)\n",
    "    Q_star = tmp['Qs'][-1] # Q table after the final update\n",
    "    V_star = Q_star.max(axis=1)"
   ]
  },
  {
   "cell_type": "code",
   "execution_count": 9,
   "metadata": {},
   "outputs": [],
   "source": [
    "Qs_by_zeta = {}\n",
    "for zeta in zeta_range:\n",
    "    metadata = pickle.load(open('output_lake8x8/frozenlake_8x8_rrew.greedy.zeta={}.pkl'.format(zeta), 'rb'))\n",
    "    Q = metadata['Qs'][-1]\n",
    "    Qs_by_zeta[zeta] = Q"
   ]
  },
  {
   "cell_type": "code",
   "execution_count": 10,
   "metadata": {},
   "outputs": [],
   "source": [
    "gamma = 0.9\n",
    "tol = 1e-10"
   ]
  },
  {
   "cell_type": "code",
   "execution_count": 11,
   "metadata": {},
   "outputs": [],
   "source": [
    "def calculate_Q_V(Q, Q_star):\n",
    "    # always choose the worst among the top near-equivalent actions\n",
    "    Q_cutoff = (1-zeta-tol) * Q_star.max(axis=1, keepdims=True)\n",
    "    pi = np.zeros_like(Q)\n",
    "    pi[Q >= Q_cutoff] = 1\n",
    "    a_star_hat = np.ma.masked_array(Q, 1-pi).min(axis=1, keepdims=True).data\n",
    "    pi[Q != a_star_hat] = 0\n",
    "    pi = pi / pi.sum(axis=1, keepdims=True)\n",
    "    V = (Q * pi).sum(axis=1)\n",
    "    return Q, V"
   ]
  },
  {
   "cell_type": "code",
   "execution_count": 12,
   "metadata": {
    "colab": {},
    "colab_type": "code",
    "id": "HpDA7Zcj3g5n"
   },
   "outputs": [],
   "source": [
    "def visualize_policy(policy, ncol=1, terminal=[]):\n",
    "    LEFT = 0\n",
    "    DOWN = 1\n",
    "    RIGHT = 2\n",
    "    UP = 3\n",
    "\n",
    "    _actions = ['L', 'D', 'R', 'U']\n",
    "    _actions = ['←', '↓', '→', '↑']\n",
    "    _actions = ['<', 'V', '>', 'A']\n",
    "\n",
    "    for i, pi_a_s in enumerate(policy):\n",
    "        if i in terminal:\n",
    "            print('{:^6}'.format(''), end='|')\n",
    "        else:\n",
    "            idxs = np.where(pi_a_s > 0)[0]\n",
    "            actions_str = ''.join(_actions[idx] for idx in idxs)\n",
    "            print('{:^6}'.format(actions_str), end='|')\n",
    "        if (i+1) % ncol == 0:\n",
    "            print('\\n', end='')"
   ]
  },
  {
   "cell_type": "code",
   "execution_count": 13,
   "metadata": {},
   "outputs": [
    {
     "name": "stdout",
     "output_type": "stream",
     "text": [
      "==============================\n",
      "zeta: 0.0\n",
      "Avg. policy size : 1.0\n",
      "Policy suboptimality (policy eval): 0.0\n",
      "  V   |  V   |  V   |  >   |  V   |  >   |  V   |  V   |\n",
      "  V   |  >   |  >   |  >   |  V   |  V   |  >   |  V   |\n",
      "  >   |  >   |  V   |      |  V   |  >   |  V   |  V   |\n",
      "  >   |  >   |  >   |  >   |  V   |      |  >   |  V   |\n",
      "  >   |  >   |  A   |      |  V   |  V   |  >   |  V   |\n",
      "  A   |      |      |  >   |  >   |  V   |      |  V   |\n",
      "  V   |      |  >   |  A   |      |  V   |      |  V   |\n",
      "  >   |  >   |  A   |      |  >   |  >   |  >   |      |\n",
      "==============================\n",
      "zeta: 0.01\n",
      "Avg. policy size : 1.2452830188679245\n",
      "Policy suboptimality (policy eval): 0.009258404059737213\n",
      "  V   |  V   |  V>  |  >   |  V   |  V>  |  V>  |  V   |\n",
      "  V   |  V>  |  >   |  >   |  V   |  V>  |  V>  |  V   |\n",
      "  >   |  >   |  V   |      |  V   |  >   |  V>  |  V   |\n",
      "  >   |  >   |  >   |  >   |  V   |      |  V>  |  V   |\n",
      "  >A  |  >A  |  A   |      |  V>  |  V>  |  >   |  V   |\n",
      "  VA  |      |      |  >   |  >   |  V   |      |  V   |\n",
      "  V   |      |  >   |  A   |      |  V   |      |  V   |\n",
      "  >   |  >   |  A   |      |  >   |  >   |  >   |      |\n",
      "==============================\n",
      "zeta: 0.02\n",
      "Avg. policy size : 1.3584905660377358\n",
      "Policy suboptimality (policy eval): 0.019926949962415286\n",
      "  V   |  V   |  V   |  V>  |  V>  |  V>  |  V>  |  V   |\n",
      "  V   |  V>  |  V>  |  >   |  V>  |  V>  |  V>  |  V   |\n",
      "  V>  |  V>  |  V   |      |  V>  |  >   |  V>  |  V   |\n",
      "  >   |  >   |  >   |  >   |  V   |      |  V>  |  V   |\n",
      "  >A  |  >A  |  A   |      |  V>  |  V>  |  >   |  V   |\n",
      "  VA  |      |      |  >   |  >   |  V   |      |  V   |\n",
      "  V   |      |  >   |  A   |      |  V   |      |  V   |\n",
      "  >   |  >   |  A   |      |  >   |  >   |  >   |      |\n",
      "==============================\n",
      "zeta: 0.03\n",
      "Avg. policy size : 1.4150943396226414\n",
      "Policy suboptimality (policy eval): 0.0224229175285362\n",
      "  V>  |  V   |  V>  |  V>  |  V>  |  V>  |  V>  |  V   |\n",
      "  V>  |  V>  |  V>  |  >   |  V>  |  V>  |  V>  |  V   |\n",
      "  V>  |  V>  |  V   |      |  V>  |  >   |  V>  |  V   |\n",
      "  >   |  >   |  >   |  >   |  V   |      |  V>  |  V   |\n",
      "  >A  |  >A  |  A   |      |  V>  |  V>  |  >   |  V   |\n",
      "  VA  |      |      |  >   |  >   |  V   |      |  V   |\n",
      "  V   |      |  >   |  A   |      |  V   |      |  V   |\n",
      "  >   |  >   |  A   |      |  >   |  >   |  >   |      |\n",
      "==============================\n",
      "zeta: 0.04\n",
      "Avg. policy size : 1.4150943396226414\n",
      "Policy suboptimality (policy eval): 0.034273345095182095\n",
      "  V   |  V>  |  V>  |  V>  |  V>  |  V>  |  V>  |  V   |\n",
      "  V>  |  V>  |  V>  |  >   |  V>  |  V>  |  V>  |  V   |\n",
      "  V>  |  V>  |  V   |      |  V>  |  >   |  V>  |  V   |\n",
      "  >   |  >   |  >   |  >   |  V   |      |  V>  |  V   |\n",
      "  >A  |  >A  |  A   |      |  V>  |  V>  |  >   |  V   |\n",
      "  VA  |      |      |  >   |  >   |  V   |      |  V   |\n",
      "  V   |      |  >   |  A   |      |  V   |      |  V   |\n",
      "  >   |  >   |  A   |      |  >   |  >   |  >   |      |\n",
      "==============================\n",
      "zeta: 0.05\n",
      "Avg. policy size : 1.4339622641509433\n",
      "Policy suboptimality (policy eval): 0.0408368429559689\n",
      "  V>  |  V>  |  V>  |  V>  |  V>  |  V>  |  V>  |  V   |\n",
      "  V>  |  V>  |  V>  |  >   |  V>  |  V>  |  V>  |  V   |\n",
      "  V>  |  V>  |  V   |      |  V>  |  >   |  V>  |  V   |\n",
      "  >   |  >   |  >   |  >   |  V   |      |  V>  |  V   |\n",
      "  >A  |  >A  |  A   |      |  V>  |  V>  |  >   |  V   |\n",
      "  VA  |      |      |  >   |  >   |  V   |      |  V   |\n",
      "  V   |      |  >   |  A   |      |  V   |      |  V   |\n",
      "  >   |  >   |  A   |      |  >   |  >   |  >   |      |\n",
      "==============================\n",
      "zeta: 0.06\n",
      "Avg. policy size : 1.4339622641509433\n",
      "Policy suboptimality (policy eval): 0.0408368429559689\n",
      "  V>  |  V>  |  V>  |  V>  |  V>  |  V>  |  V>  |  V   |\n",
      "  V>  |  V>  |  V>  |  >   |  V>  |  V>  |  V>  |  V   |\n",
      "  V>  |  V>  |  V   |      |  V>  |  >   |  V>  |  V   |\n",
      "  >   |  >   |  >   |  >   |  V   |      |  V>  |  V   |\n",
      "  >A  |  >A  |  A   |      |  V>  |  V>  |  >   |  V   |\n",
      "  VA  |      |      |  >   |  >   |  V   |      |  V   |\n",
      "  V   |      |  >   |  A   |      |  V   |      |  V   |\n",
      "  >   |  >   |  A   |      |  >   |  >   |  >   |      |\n"
     ]
    }
   ],
   "source": [
    "Q_pi_ALL = {}\n",
    "for zeta in zeta_range:\n",
    "    print('='*30)\n",
    "    print('zeta:', zeta)\n",
    "    Q = Qs_by_zeta[zeta]\n",
    "    Q_pi, V_pi = calculate_Q_V(Q, Q_star)\n",
    "    pi = (Q >= (1-zeta-tol) * Q_star.max(axis=1, keepdims=True)).astype(int)\n",
    "    psize = np_exclude(pi, env.S_terminal).sum(axis=1).mean()\n",
    "    print('Avg. policy size :', psize) # for non-terminal states\n",
    "    \n",
    "    pi = algos.zeta_optimal_worst_case_policy(Q, dict(Q_star=Q_star, zeta=zeta))\n",
    "    V_pi = algos.policy_eval(env, pi, gamma=gamma)\n",
    "    print(\n",
    "        'Policy suboptimality (policy eval):', \n",
    "        (1 - np_exclude(V_pi, S_terminal) / np_exclude(V_star, S_terminal)).max()\n",
    "    )\n",
    "    visualize_policy(algos.zeta_optimal_stochastic_policy(Q, dict(Q_star=Q_star, zeta=zeta)), 8, S_terminal)"
   ]
  },
  {
   "cell_type": "code",
   "execution_count": null,
   "metadata": {},
   "outputs": [],
   "source": []
  },
  {
   "cell_type": "markdown",
   "metadata": {},
   "source": [
    "## Plot routes\n",
    "\n",
    "- run the following blocks of code for `zeta` $\\in \\{0.00, 0.01, 0.02, 0.03\\}$\n",
    "- the error message produced by `plt.show()` can be ignored, and the correct figures are saved as pdf files. "
   ]
  },
  {
   "cell_type": "code",
   "execution_count": 28,
   "metadata": {},
   "outputs": [],
   "source": [
    "zeta = 0.0\n",
    "Q = Qs_by_zeta[zeta]\n",
    "pi = (Q >= (1-zeta-tol) * Q_star.max(axis=1, keepdims=True)).astype(int)"
   ]
  },
  {
   "cell_type": "code",
   "execution_count": null,
   "metadata": {},
   "outputs": [],
   "source": [
    "fig, ax = plt.subplots(figsize=(3,3))\n",
    "plt.xlim(0,8)\n",
    "plt.ylim(0,8)\n",
    "plt.grid(c='k')\n",
    "plt.xticks([0,1,2,3,4,5,6,7,8])\n",
    "plt.yticks([0,1,2,3,4,5,6,7,8])\n",
    "ax.set_xticklabels([])\n",
    "ax.set_yticklabels([])\n",
    "ax.tick_params(length=0)\n",
    "plt.text(0.5, 7.5, 'S', fontsize=18, ha='center', va='center', alpha=0.25)\n",
    "plt.text(7.5, 0.5, 'G', fontsize=18, ha='center', va='center', alpha=0.25)\n",
    "\n",
    "for hole in [\n",
    "    (1,1), (1,2),\n",
    "    (2,2),\n",
    "    (3,0), (3,3), (3,5),\n",
    "    (4,1), (5,4), (6,1), (6,2),\n",
    "]:\n",
    "    rect = patches.Rectangle(hole,1,1,linewidth=1,edgecolor='k',facecolor='k')\n",
    "    ax.add_patch(rect)\n",
    "\n",
    "offset = 0.5\n",
    "style=\"Simple,tail_width=0.1,head_width=2,head_length=2\"\n",
    "kw = dict(arrowstyle=style, color=\"k\")\n",
    "for s in range(env.nS):\n",
    "    if s in env.S_terminal:\n",
    "        continue\n",
    "    row, col = s//8, s%8\n",
    "    x, y = col, 8-row\n",
    "    for action in np.argwhere(pi[s] == 1).flatten():\n",
    "        if action == LEFT:\n",
    "            a = patches.FancyArrowPatch((x+0.5,y-0.5), (x+0.5-0.5,y-0.5),connectionstyle=\"arc3,rad=0\", **kw)\n",
    "        elif action == RIGHT:\n",
    "            a = patches.FancyArrowPatch((x+0.5,y-0.5), (x+0.5+0.5,y-0.5),connectionstyle=\"arc3,rad=0\", **kw)\n",
    "        elif action == UP:\n",
    "            a = patches.FancyArrowPatch((x+0.5,y-0.5), (x+0.5,y-0.5+0.5),connectionstyle=\"arc3,rad=0\", **kw)\n",
    "        elif action == DOWN:\n",
    "            a = patches.FancyArrowPatch((x+0.5,y-0.5), (x+0.5,y-0.5-0.5),connectionstyle=\"arc3,rad=0\", **kw)\n",
    "            \n",
    "        plt.gca().add_patch(a)\n",
    "\n",
    "\n",
    "lines = [[(0.5, 7.5), (0.5, 5.5)], [(0.5, 5.5), (2.5, 5.5)], [(2.5, 5.5), (2.5, 4.5)],\n",
    "         [(2.5, 4.5), (4.5, 4.5)], [(4.5, 4.5), (4.5, 2.5)], [(4.5, 2.5), (5.5, 2.5)], \n",
    "         [(5.5, 2.5), (5.5, 0.5)], [(5.5, 0.5), (7.5, 0.5)], ]\n",
    "lc = mc.LineCollection(lines, colors='r', linewidths=4, zorder=1, alpha=0.5)\n",
    "ax.add_collection(lc)\n",
    "\n",
    "if zeta >= 0.01:\n",
    "    offset = 0.1\n",
    "    lines = [[(0.5+offset, 7.5), (0.5+offset, 5.5+offset)], [(0.5+offset, 5.5+offset), (2.5+offset, 5.5+offset)], [(2.5+offset, 5.5+offset), (2.5+offset, 4.5+offset)],\n",
    "             [(2.5+offset, 4.5+offset), (4.5+offset, 4.5+offset)], [(4.5+offset, 4.5+offset), (4.5+offset, 3.5)], [(4.5+offset, 3.5), (7.5, 3.5)], \n",
    "             [(7.5, 3.5), (7.5, 0.5)], \n",
    "             [(5.5, 3.5), (5.5, 2.5)], \n",
    "            ]\n",
    "    lc = mc.LineCollection(lines, colors='orange', linewidths=4, zorder=1, alpha=0.5)\n",
    "    ax.add_collection(lc)\n",
    "\n",
    "if zeta >= 0.02:\n",
    "    offset = 0.1\n",
    "    lines = [[(0.5-offset, 7.5), (0.5-offset, 4.5+offset)], [(0.5-offset, 4.5), (2.5+offset, 4.5)], [(1.5+offset, 5.5), (1.5+offset, 4.5)],\n",
    "            ]\n",
    "    lc = mc.LineCollection(lines, colors='tab:red', linewidths=4, zorder=1, alpha=0.5)\n",
    "    ax.add_collection(lc)\n",
    "\n",
    "if zeta >= 0.03:\n",
    "    offset = 0.1\n",
    "    lines = [[(0.5, 7.5), (1.5, 7.5)], [(1.5, 7.5), (1.5, 6.5)], [(0.5, 6.5), (1.5, 6.5)]] \\\n",
    "    + [\n",
    "        [(1.5+i, 6.5), (2.5+i, 6.5)] for i in range(6)\n",
    "    ] + [\n",
    "        [(1.5, 6.5), (1.5, 5.5)], [(2.5, 6.5), (2.5, 5.5)], \n",
    "        [(4.5, 6.5), (4.5, 4.5)], [(5.5, 6.5), (5.5, 5.5)], [(6.5, 6.5), (6.5, 3.5)], \n",
    "    ] + [\n",
    "        [(4.5+i, 5.5), (5.5+i, 5.5)] for i in range(3)\n",
    "    ] + [\n",
    "        [(7.5, 6.5-j), (7.5, 5.5-j)] for j in range(3)\n",
    "    ] + [\n",
    "        [(6.5, 4.5), (7.5, 4.5)]\n",
    "    ]\n",
    "    lc = mc.LineCollection(lines, colors='tab:blue', linewidths=4, zorder=1, alpha=0.5)\n",
    "    ax.add_collection(lc)\n",
    "\n",
    "# if zeta >= 0.04:\n",
    "#     lines = [[(1.5+i, 7.5), (2.5+i, 7.5)] for i in range(6)] \\\n",
    "#     + [[(2.5+i, 7.5), (2.5+i, 6.5)] for i in range(6)]\n",
    "#     lc = mc.LineCollection(lines, colors='tab:green', linewidths=4, zorder=1, alpha=0.5)\n",
    "#     ax.add_collection(lc)\n",
    "\n",
    "psize = np_exclude(pi, env.S_terminal).sum(axis=1).mean()\n",
    "plt.text(4, -0.3, '$\\zeta={:.2f}$\\t Avg. policy size: {:.2f}'.format(zeta, psize), fontsize=12, ha='center', va='top')\n",
    "\n",
    "pi_worst = algos.zeta_optimal_worst_case_policy(Q, dict(Q_star=Q_star, zeta=zeta))\n",
    "V_pi_worst = algos.policy_eval(env, pi_worst, gamma=gamma)\n",
    "plt.text(4, -1.0, 'worst-case near-optimality: {:.1%}'.format(\n",
    "    (np_exclude(V_pi_worst, S_terminal) / np_exclude(V_star, S_terminal)).min()\n",
    "), fontsize=12, ha='center', va='top')\n",
    "\n",
    "plt.savefig('figures/lake8x8.zeta={}.pdf'.format(zeta), bbox_inches='tight')\n",
    "# plt.show()"
   ]
  },
  {
   "cell_type": "code",
   "execution_count": null,
   "metadata": {},
   "outputs": [],
   "source": []
  }
 ],
 "metadata": {
  "kernelspec": {
   "display_name": "Python 3",
   "language": "python",
   "name": "python3"
  },
  "language_info": {
   "codemirror_mode": {
    "name": "ipython",
    "version": 3
   },
   "file_extension": ".py",
   "mimetype": "text/x-python",
   "name": "python",
   "nbconvert_exporter": "python",
   "pygments_lexer": "ipython3",
   "version": "3.7.4"
  }
 },
 "nbformat": 4,
 "nbformat_minor": 4
}
