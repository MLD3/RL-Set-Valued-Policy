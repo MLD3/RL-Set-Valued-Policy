{
 "cells": [
  {
   "cell_type": "code",
   "execution_count": 1,
   "metadata": {},
   "outputs": [],
   "source": [
    "# Cluster patient states in the test set into 750 discrete cluster centroids.\n",
    "# Assign test set points to the nearest cluster centroids"
   ]
  },
  {
   "cell_type": "code",
   "execution_count": 2,
   "metadata": {
    "editable": true
   },
   "outputs": [],
   "source": [
    "import numpy as np\n",
    "import pandas as pd\n",
    "from pandas import DataFrame\n",
    "from sklearn.cluster import KMeans\n",
    "from joblib import dump, load"
   ]
  },
  {
   "cell_type": "code",
   "execution_count": 3,
   "metadata": {
    "editable": true
   },
   "outputs": [],
   "source": [
    "train_data = pd.read_csv(\"../data/rl_train_set_unscaled.csv\")\n",
    "val_data = pd.read_csv(\"../data/rl_val_set_unscaled.csv\")\n",
    "test_data = pd.read_csv(\"../data/rl_test_set_unscaled.csv\")"
   ]
  },
  {
   "cell_type": "code",
   "execution_count": 4,
   "metadata": {
    "collapsed": false,
    "editable": true,
    "jupyter": {
     "outputs_hidden": false
    }
   },
   "outputs": [],
   "source": [
    "with open(\"state_features.txt\") as f:\n",
    "    feat = f.read()\n",
    "cluster_features = feat.split()"
   ]
  },
  {
   "cell_type": "code",
   "execution_count": 5,
   "metadata": {
    "collapsed": false,
    "editable": true,
    "jupyter": {
     "outputs_hidden": false
    }
   },
   "outputs": [],
   "source": [
    "# extract out the features from data\n",
    "train_cluster_data = train_data[cluster_features]\n",
    "val_cluster_data = val_data[cluster_features]\n",
    "test_cluster_data = test_data[cluster_features]"
   ]
  },
  {
   "cell_type": "code",
   "execution_count": 6,
   "metadata": {},
   "outputs": [
    {
     "data": {
      "text/plain": [
       "(195303, 48)"
      ]
     },
     "execution_count": 6,
     "metadata": {},
     "output_type": "execute_result"
    }
   ],
   "source": [
    "train_cluster_data.shape"
   ]
  },
  {
   "cell_type": "code",
   "execution_count": 7,
   "metadata": {},
   "outputs": [],
   "source": [
    "kmeans_train = load('kmeans_750.joblib')"
   ]
  },
  {
   "cell_type": "code",
   "execution_count": 8,
   "metadata": {},
   "outputs": [
    {
     "data": {
      "text/plain": [
       "4571249.846241366"
      ]
     },
     "execution_count": 8,
     "metadata": {},
     "output_type": "execute_result"
    }
   ],
   "source": [
    "kmeans_train.inertia_"
   ]
  },
  {
   "cell_type": "code",
   "execution_count": 9,
   "metadata": {
    "collapsed": false,
    "editable": true,
    "jupyter": {
     "outputs_hidden": false
    }
   },
   "outputs": [],
   "source": [
    "# clusters for the train data\n",
    "train_clusters = kmeans_train.labels_"
   ]
  },
  {
   "cell_type": "code",
   "execution_count": 10,
   "metadata": {
    "collapsed": false,
    "editable": true,
    "jupyter": {
     "outputs_hidden": false
    }
   },
   "outputs": [],
   "source": [
    "# here, compute cluster centroids for val and test data\n",
    "val_clusters = kmeans_train.predict(val_cluster_data)\n",
    "test_clusters = kmeans_train.predict(test_cluster_data)"
   ]
  },
  {
   "cell_type": "code",
   "execution_count": 11,
   "metadata": {
    "editable": true
   },
   "outputs": [],
   "source": [
    "train_data['state'] = train_clusters\n",
    "val_data['state'] = val_clusters\n",
    "test_data['state'] = test_clusters"
   ]
  },
  {
   "cell_type": "code",
   "execution_count": 18,
   "metadata": {
    "editable": true
   },
   "outputs": [],
   "source": [
    "train_set_final = DataFrame()\n",
    "train_set_final['bloc'] = train_data['bloc']\n",
    "train_set_final['icustayid'] = train_data['icustayid']\n",
    "train_set_final['state'] = train_data['state']\n",
    "train_set_final['reward'] = train_data['terminal_reward']\n",
    "train_set_final['mortality'] = train_data['died_in_hosp']\n",
    "\n",
    "train_set_final['vaso_input'] = train_data['vaso_input']\n",
    "train_set_final['iv_input'] = train_data['iv_input']\n",
    "train_set_final['vaso_input_NEW'] = train_data['vaso_input_NEW']\n",
    "train_set_final['iv_input_NEW'] = train_data['iv_input_NEW']"
   ]
  },
  {
   "cell_type": "code",
   "execution_count": 19,
   "metadata": {},
   "outputs": [],
   "source": [
    "val_set_final = DataFrame()\n",
    "val_set_final['bloc'] = val_data['bloc']\n",
    "val_set_final['icustayid'] = val_data['icustayid']\n",
    "val_set_final['state'] = val_data['state']\n",
    "val_set_final['reward'] = val_data['terminal_reward']\n",
    "val_set_final['mortality'] = val_data['died_in_hosp']\n",
    "\n",
    "val_set_final['vaso_input'] = val_data['vaso_input']\n",
    "val_set_final['iv_input'] = val_data['iv_input']\n",
    "val_set_final['vaso_input_NEW'] = val_data['vaso_input_NEW']\n",
    "val_set_final['iv_input_NEW'] = val_data['iv_input_NEW']"
   ]
  },
  {
   "cell_type": "code",
   "execution_count": 20,
   "metadata": {
    "editable": true
   },
   "outputs": [],
   "source": [
    "test_set_final = DataFrame()\n",
    "test_set_final['bloc'] = test_data['bloc']\n",
    "test_set_final['icustayid'] = test_data['icustayid']\n",
    "test_set_final['state'] = test_data['state']\n",
    "test_set_final['reward'] = test_data['terminal_reward']\n",
    "test_set_final['mortality'] = test_data['died_in_hosp']\n",
    "\n",
    "test_set_final['vaso_input'] = test_data['vaso_input']\n",
    "test_set_final['iv_input'] = test_data['iv_input']\n",
    "test_set_final['vaso_input_NEW'] = test_data['vaso_input_NEW']\n",
    "test_set_final['iv_input_NEW'] = test_data['iv_input_NEW']"
   ]
  },
  {
   "cell_type": "code",
   "execution_count": 21,
   "metadata": {
    "editable": true
   },
   "outputs": [],
   "source": [
    "train_set_final.to_csv('../data/rl_train_data_discrete.csv',index=False)\n",
    "val_set_final.to_csv('../data/rl_val_data_discrete.csv', index=False)\n",
    "test_set_final.to_csv('../data/rl_test_data_discrete.csv',index=False)"
   ]
  },
  {
   "cell_type": "code",
   "execution_count": null,
   "metadata": {},
   "outputs": [],
   "source": []
  }
 ],
 "metadata": {
  "kernelspec": {
   "display_name": "Python 3",
   "language": "python",
   "name": "python3"
  },
  "language_info": {
   "codemirror_mode": {
    "name": "ipython",
    "version": 3
   },
   "file_extension": ".py",
   "mimetype": "text/x-python",
   "name": "python",
   "nbconvert_exporter": "python",
   "pygments_lexer": "ipython3",
   "version": "3.7.4"
  }
 },
 "nbformat": 4,
 "nbformat_minor": 4
}
