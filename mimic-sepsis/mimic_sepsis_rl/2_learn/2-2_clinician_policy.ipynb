{
 "cells": [
  {
   "cell_type": "code",
   "execution_count": 1,
   "metadata": {
    "deletable": true,
    "editable": true
   },
   "outputs": [],
   "source": [
    "import numpy as np\n",
    "import pickle\n",
    "from collections import Counter, defaultdict\n",
    "from tqdm import tqdm"
   ]
  },
  {
   "cell_type": "code",
   "execution_count": 2,
   "metadata": {},
   "outputs": [],
   "source": [
    "traj_tr = pickle.load(open('trajDr_tr.pkl', 'rb'))"
   ]
  },
  {
   "cell_type": "code",
   "execution_count": 3,
   "metadata": {},
   "outputs": [],
   "source": [
    "nS, nA = 750, 25"
   ]
  },
  {
   "cell_type": "code",
   "execution_count": 4,
   "metadata": {},
   "outputs": [
    {
     "name": "stderr",
     "output_type": "stream",
     "text": [
      "100%|██████████| 14657/14657 [00:00<00:00, 40651.15it/s]\n"
     ]
    }
   ],
   "source": [
    "# Count frequency of each transition\n",
    "policy_counts = np.zeros((nS, nA), dtype=int)\n",
    "for trajectory in tqdm(traj_tr):\n",
    "    for t, transition in enumerate(trajectory):\n",
    "        s = transition['s']\n",
    "        a = transition['a']\n",
    "        policy_counts[s][a] += 1"
   ]
  },
  {
   "cell_type": "code",
   "execution_count": 5,
   "metadata": {},
   "outputs": [
    {
     "data": {
      "text/plain": [
       "array([129,   0,   0,   3,   0, 212,  10,   3,  16,   9,  39,   3,   2,\n",
       "         1,   4,   7,   3,   1,   3,   1,   1,   0,   0,   1,   0])"
      ]
     },
     "execution_count": 5,
     "metadata": {},
     "output_type": "execute_result"
    }
   ],
   "source": [
    "policy_counts[0]"
   ]
  },
  {
   "cell_type": "code",
   "execution_count": 6,
   "metadata": {},
   "outputs": [],
   "source": [
    "# only allow actions *frequently* used by clinicians (at least 5 times)\n",
    "Q_mask = (policy_counts >= 5)"
   ]
  },
  {
   "cell_type": "code",
   "execution_count": 7,
   "metadata": {},
   "outputs": [],
   "source": [
    "# For states without any available actions, allow the most frequent action\n",
    "for s in range(nS):\n",
    "    if Q_mask[s].sum() == 0:\n",
    "        Q_mask[s, policy_counts[s].argmax()] = True"
   ]
  },
  {
   "cell_type": "code",
   "execution_count": 8,
   "metadata": {},
   "outputs": [
    {
     "data": {
      "text/plain": [
       "array([ True, False, False, False, False,  True,  True, False,  True,\n",
       "        True,  True, False, False, False, False, False, False, False,\n",
       "       False, False, False, False, False, False, False])"
      ]
     },
     "execution_count": 8,
     "metadata": {},
     "output_type": "execute_result"
    }
   ],
   "source": [
    "Q_mask[157]"
   ]
  },
  {
   "cell_type": "code",
   "execution_count": 9,
   "metadata": {},
   "outputs": [
    {
     "data": {
      "text/plain": [
       "True"
      ]
     },
     "execution_count": 9,
     "metadata": {},
     "output_type": "execute_result"
    }
   ],
   "source": [
    "# every state has at least one action, |A(s)| >= 1\n",
    "(Q_mask.sum(axis=1) > 0).all()"
   ]
  },
  {
   "cell_type": "code",
   "execution_count": 10,
   "metadata": {},
   "outputs": [],
   "source": [
    "np.save('action_mask.npy', Q_mask)"
   ]
  },
  {
   "cell_type": "code",
   "execution_count": 11,
   "metadata": {},
   "outputs": [
    {
     "data": {
      "text/plain": [
       "0.24144"
      ]
     },
     "execution_count": 11,
     "metadata": {},
     "output_type": "execute_result"
    }
   ],
   "source": [
    "Q_mask.mean()"
   ]
  },
  {
   "cell_type": "code",
   "execution_count": 12,
   "metadata": {},
   "outputs": [],
   "source": [
    "import matplotlib.pyplot as plt"
   ]
  },
  {
   "cell_type": "code",
   "execution_count": 13,
   "metadata": {},
   "outputs": [
    {
     "data": {
      "text/plain": [
       "(750,)"
      ]
     },
     "execution_count": 13,
     "metadata": {},
     "output_type": "execute_result"
    }
   ],
   "source": [
    "policy_counts.sum(axis=1).shape"
   ]
  },
  {
   "cell_type": "code",
   "execution_count": 14,
   "metadata": {},
   "outputs": [
    {
     "data": {
      "image/png": "[encoded data removed]",
      "text/plain": [
       "<Figure size 432x288 with 1 Axes>"
      ]
     },
     "metadata": {
      "needs_background": "light"
     },
     "output_type": "display_data"
    }
   ],
   "source": [
    "plt.hist(policy_counts.sum(axis=1))\n",
    "plt.show()"
   ]
  },
  {
   "cell_type": "code",
   "execution_count": null,
   "metadata": {},
   "outputs": [],
   "source": []
  },
  {
   "cell_type": "code",
   "execution_count": 15,
   "metadata": {},
   "outputs": [
    {
     "name": "stderr",
     "output_type": "stream",
     "text": [
      "100%|██████████| 14657/14657 [00:00<00:00, 46492.53it/s]\n"
     ]
    }
   ],
   "source": [
    "# Empirically estimate the clinicians' policy\n",
    "policy_counts = defaultdict(lambda: defaultdict(int))\n",
    "for trajectory in tqdm(traj_tr):\n",
    "    for t, transition in enumerate(trajectory):\n",
    "        s = transition['s']\n",
    "        a = transition['a']\n",
    "        if Q_mask[s,a]:\n",
    "            policy_counts[s][a] += 1"
   ]
  },
  {
   "cell_type": "code",
   "execution_count": 16,
   "metadata": {},
   "outputs": [
    {
     "name": "stderr",
     "output_type": "stream",
     "text": [
      "100%|██████████| 750/750 [00:00<00:00, 67728.72it/s]\n"
     ]
    }
   ],
   "source": [
    "# Renormalize policy probabilities\n",
    "pi_0 = defaultdict(dict)\n",
    "for s in tqdm(range(nS)):\n",
    "    emp_counts = policy_counts[s]\n",
    "    if len(emp_counts) == 0:\n",
    "        assert False\n",
    "    else:\n",
    "        norm_const = sum(emp_counts.values())\n",
    "        for a, count in emp_counts.items():\n",
    "            prob = float(count) / float(norm_const)\n",
    "            pi_0[s][a] = prob"
   ]
  },
  {
   "cell_type": "code",
   "execution_count": 17,
   "metadata": {},
   "outputs": [
    {
     "data": {
      "text/plain": [
       "{0: 0.26884422110552764,\n",
       " 5: 0.6130653266331658,\n",
       " 10: 0.10301507537688442,\n",
       " 15: 0.01507537688442211}"
      ]
     },
     "execution_count": 17,
     "metadata": {},
     "output_type": "execute_result"
    }
   ],
   "source": [
    "pi_0[10]"
   ]
  },
  {
   "cell_type": "code",
   "execution_count": 18,
   "metadata": {},
   "outputs": [
    {
     "data": {
      "text/plain": [
       "{0: 0.14942528735632185,\n",
       " 5: 0.6954022988505747,\n",
       " 10: 0.08620689655172414,\n",
       " 8: 0.017241379310344827,\n",
       " 9: 0.03735632183908046,\n",
       " 6: 0.014367816091954023}"
      ]
     },
     "execution_count": 18,
     "metadata": {},
     "output_type": "execute_result"
    }
   ],
   "source": [
    "pi_0[157]"
   ]
  },
  {
   "cell_type": "code",
   "execution_count": 19,
   "metadata": {
    "collapsed": false,
    "deletable": true,
    "editable": true,
    "jupyter": {
     "outputs_hidden": false
    }
   },
   "outputs": [],
   "source": [
    "with open('clinician_policy.p', 'wb') as f:\n",
    "    pickle.dump(pi_0, f)"
   ]
  },
  {
   "cell_type": "code",
   "execution_count": null,
   "metadata": {},
   "outputs": [],
   "source": []
  }
 ],
 "metadata": {
  "kernelspec": {
   "display_name": "Python 3",
   "language": "python",
   "name": "python3"
  },
  "language_info": {
   "codemirror_mode": {
    "name": "ipython",
    "version": 3
   },
   "file_extension": ".py",
   "mimetype": "text/x-python",
   "name": "python",
   "nbconvert_exporter": "python",
   "pygments_lexer": "ipython3",
   "version": "3.7.4"
  }
 },
 "nbformat": 4,
 "nbformat_minor": 4
}
