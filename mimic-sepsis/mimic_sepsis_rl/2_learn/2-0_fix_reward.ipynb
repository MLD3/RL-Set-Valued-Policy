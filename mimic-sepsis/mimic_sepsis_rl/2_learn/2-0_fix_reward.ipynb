{
 "cells": [
  {
   "cell_type": "code",
   "execution_count": null,
   "metadata": {},
   "outputs": [],
   "source": [
    "# Set terminal rewards to {-1, 0, +1}\n",
    "# Previously if final timestep is death, reward was set to 0\n",
    "# intermediate rewards are all 0"
   ]
  },
  {
   "cell_type": "code",
   "execution_count": 1,
   "metadata": {},
   "outputs": [],
   "source": [
    "import numpy as np\n",
    "import pandas as pd\n",
    "from pandas import DataFrame\n",
    "from tqdm import tqdm\n",
    "from collections import defaultdict\n",
    "import pickle"
   ]
  },
  {
   "cell_type": "code",
   "execution_count": 2,
   "metadata": {},
   "outputs": [],
   "source": [
    "traj_tr = pickle.load(open('trajD_tr.pkl', 'rb'))\n",
    "\n",
    "for traj in traj_tr:\n",
    "    if traj[-1]['r'] == 0:\n",
    "        traj[-1]['r'] = -100\n",
    "    if traj[-1]['r'] == 1:\n",
    "        traj[-1]['r'] = 100\n",
    "\n",
    "pickle.dump(traj_tr, open('trajDr_tr.pkl', 'wb'))"
   ]
  },
  {
   "cell_type": "code",
   "execution_count": 3,
   "metadata": {},
   "outputs": [],
   "source": [
    "traj_va = pickle.load(open('trajD_va.pkl', 'rb'))\n",
    "\n",
    "for traj in traj_va:\n",
    "    if traj[-1]['r'] == 0:\n",
    "        traj[-1]['r'] = -100\n",
    "    if traj[-1]['r'] == 1:\n",
    "        traj[-1]['r'] = 100\n",
    "\n",
    "pickle.dump(traj_va, open('trajDr_va.pkl', 'wb'))"
   ]
  },
  {
   "cell_type": "code",
   "execution_count": 4,
   "metadata": {},
   "outputs": [],
   "source": [
    "traj_te = pickle.load(open('trajD_te.pkl', 'rb'))\n",
    "\n",
    "for traj in traj_te:\n",
    "    if traj[-1]['r'] == 0:\n",
    "        traj[-1]['r'] = -100\n",
    "    if traj[-1]['r'] == 1:\n",
    "        traj[-1]['r'] = 100\n",
    "\n",
    "pickle.dump(traj_te, open('trajDr_te.pkl', 'wb'))"
   ]
  },
  {
   "cell_type": "code",
   "execution_count": 5,
   "metadata": {},
   "outputs": [
    {
     "data": {
      "text/plain": [
       "0.13802278774646926"
      ]
     },
     "execution_count": 5,
     "metadata": {},
     "output_type": "execute_result"
    }
   ],
   "source": [
    "np.mean([traj[-1]['r'] == -100 for traj in traj_tr])"
   ]
  },
  {
   "cell_type": "code",
   "execution_count": 6,
   "metadata": {},
   "outputs": [
    {
     "data": {
      "text/plain": [
       "0.14804202483285578"
      ]
     },
     "execution_count": 6,
     "metadata": {},
     "output_type": "execute_result"
    }
   ],
   "source": [
    "np.mean([traj[-1]['r'] == -100 for traj in traj_va])"
   ]
  },
  {
   "cell_type": "code",
   "execution_count": 7,
   "metadata": {},
   "outputs": [
    {
     "data": {
      "text/plain": [
       "0.13129625208880402"
      ]
     },
     "execution_count": 7,
     "metadata": {},
     "output_type": "execute_result"
    }
   ],
   "source": [
    "np.mean([traj[-1]['r'] == -100 for traj in traj_te])"
   ]
  },
  {
   "cell_type": "code",
   "execution_count": null,
   "metadata": {},
   "outputs": [],
   "source": []
  }
 ],
 "metadata": {
  "kernelspec": {
   "display_name": "Python 3",
   "language": "python",
   "name": "python3"
  },
  "language_info": {
   "codemirror_mode": {
    "name": "ipython",
    "version": 3
   },
   "file_extension": ".py",
   "mimetype": "text/x-python",
   "name": "python",
   "nbconvert_exporter": "python",
   "pygments_lexer": "ipython3",
   "version": "3.7.4"
  }
 },
 "nbformat": 4,
 "nbformat_minor": 4
}
