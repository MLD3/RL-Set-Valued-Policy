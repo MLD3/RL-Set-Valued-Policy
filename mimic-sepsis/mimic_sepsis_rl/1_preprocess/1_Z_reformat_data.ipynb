{
 "cells": [
  {
   "cell_type": "code",
   "execution_count": 1,
   "metadata": {},
   "outputs": [],
   "source": [
    "import pickle as pkl\n",
    "import numpy as np\n",
    "import matplotlib.pyplot as plt\n",
    "from tqdm import tnrange, tqdm\n",
    "import seaborn as sns\n",
    "from joblib import dump, load\n",
    "import pandas as pd\n",
    "import argparse"
   ]
  },
  {
   "cell_type": "code",
   "execution_count": 2,
   "metadata": {},
   "outputs": [
    {
     "name": "stdout",
     "output_type": "stream",
     "text": [
      "['Albumin', 'Arterial_BE', 'Arterial_lactate', 'Arterial_pH', 'BUN', 'CO2_mEqL', 'Calcium', 'Chloride', 'Creatinine', 'DiaBP', 'FiO2_1', 'GCS', 'Glucose', 'HCO3', 'HR', 'Hb', 'INR', 'Ionised_Ca', 'Magnesium', 'MeanBP', 'PT', 'PTT', 'PaO2_FiO2', 'Platelets_count', 'Potassium', 'RR', 'SGOT', 'SGPT', 'SIRS', 'SOFA', 'Shock_Index', 'Sodium', 'SpO2', 'SysBP', 'Temp_C', 'Total_bili', 'WBC_count', 'Weight_kg', 'age', 'elixhauser', 'gender', 'mechvent', 'output_4hourly', 'output_total', 'paCO2', 'paO2', 're_admission', 'bloc']\n",
      "48\n"
     ]
    }
   ],
   "source": [
    "with open('state_features.txt') as f:\n",
    "    state_features = f.read().split()\n",
    "print(state_features)\n",
    "print(len(state_features))"
   ]
  },
  {
   "cell_type": "code",
   "execution_count": 3,
   "metadata": {},
   "outputs": [],
   "source": [
    "# define an action mapping - how to get an id representing the action from the (iv,vaso) tuple\n",
    "action_map = {(iv, vaso): 5*iv+vaso for iv in range(5) for vaso in range(5)}"
   ]
  },
  {
   "cell_type": "code",
   "execution_count": null,
   "metadata": {},
   "outputs": [],
   "source": [
    "## OLD action space"
   ]
  },
  {
   "cell_type": "code",
   "execution_count": 4,
   "metadata": {},
   "outputs": [],
   "source": [
    "def make_trajectories(df):\n",
    "    trajectories = []\n",
    "    for i, g in tqdm(df.groupby('icustayid')):\n",
    "        try:\n",
    "            g = g.reset_index(drop=True)\n",
    "            trajectory = []\n",
    "            for t in range(len(g)-1):\n",
    "                transition = {\n",
    "                    's': g.loc[t, state_features].values, \n",
    "                    'a': action_map[\n",
    "                        int(g.loc[t, 'iv_input']),\n",
    "                        int(g.loc[t, 'vaso_input'])\n",
    "                    ],\n",
    "                    'r': g.loc[t, 'terminal_reward'],\n",
    "                    's_': g.loc[t+1, state_features].values, \n",
    "                    'a_': action_map[\n",
    "                        int(g.loc[t+1, 'iv_input']),\n",
    "                        int(g.loc[t+1, 'vaso_input'])\n",
    "                    ],\n",
    "                    'done': False,\n",
    "                }\n",
    "                trajectory.append(transition)\n",
    "            \n",
    "            t = len(g)-1\n",
    "            trajectory.append({\n",
    "                's': g.loc[t, state_features].values, \n",
    "                'a': action_map[\n",
    "                    int(g.loc[t, 'iv_input']),\n",
    "                    int(g.loc[t, 'vaso_input'])\n",
    "                ], \n",
    "                'r': g.loc[t, 'terminal_reward'],\n",
    "                's_': None, \n",
    "                'a_': None,\n",
    "                'done': True,\n",
    "            })\n",
    "#             print(trajectory)\n",
    "            trajectories.append(trajectory)\n",
    "        except:\n",
    "            print(i)\n",
    "            display(g)\n",
    "            raise\n",
    "    return trajectories"
   ]
  },
  {
   "cell_type": "code",
   "execution_count": 5,
   "metadata": {},
   "outputs": [
    {
     "name": "stderr",
     "output_type": "stream",
     "text": [
      "100%|██████████| 2094/2094 [00:55<00:00, 38.00it/s]\n"
     ]
    }
   ],
   "source": [
    "# VAL\n",
    "traj_va = make_trajectories(pd.read_csv('../data/rl_val_set_scaled.csv'))\n",
    "pkl.dump(traj_va, open('traj_OLD_va.pkl', 'wb'))"
   ]
  },
  {
   "cell_type": "code",
   "execution_count": 6,
   "metadata": {},
   "outputs": [
    {
     "name": "stderr",
     "output_type": "stream",
     "text": [
      "100%|██████████| 4189/4189 [01:48<00:00, 38.71it/s]\n"
     ]
    }
   ],
   "source": [
    "# TEST\n",
    "traj_te = make_trajectories(pd.read_csv('../data/rl_test_set_scaled.csv'))\n",
    "pkl.dump(traj_te, open('traj_OLD_te.pkl', 'wb'))"
   ]
  },
  {
   "cell_type": "code",
   "execution_count": 7,
   "metadata": {},
   "outputs": [
    {
     "name": "stderr",
     "output_type": "stream",
     "text": [
      "100%|██████████| 14657/14657 [06:23<00:00, 38.24it/s]\n"
     ]
    }
   ],
   "source": [
    "# TRAIN\n",
    "traj_tr = make_trajectories(pd.read_csv('../data/rl_train_set_scaled.csv'))\n",
    "pkl.dump(traj_tr, open('traj_OLD_tr.pkl', 'wb'))"
   ]
  },
  {
   "cell_type": "code",
   "execution_count": null,
   "metadata": {},
   "outputs": [],
   "source": [
    "## NEW action space"
   ]
  },
  {
   "cell_type": "code",
   "execution_count": 8,
   "metadata": {},
   "outputs": [],
   "source": [
    "def make_trajectories(df):\n",
    "    trajectories = []\n",
    "    for i, g in tqdm(df.groupby('icustayid')):\n",
    "        try:\n",
    "            g = g.reset_index(drop=True)\n",
    "            trajectory = []\n",
    "            for t in range(len(g)-1):\n",
    "                transition = {\n",
    "                    's': g.loc[t, state_features].values, \n",
    "                    'a': action_map[\n",
    "                        int(g.loc[t, 'iv_input_NEW']),\n",
    "                        int(g.loc[t, 'vaso_input_NEW'])\n",
    "                    ],\n",
    "                    'r': g.loc[t, 'terminal_reward'],\n",
    "                    's_': g.loc[t+1, state_features].values, \n",
    "                    'a_': action_map[\n",
    "                        int(g.loc[t+1, 'iv_input_NEW']),\n",
    "                        int(g.loc[t+1, 'vaso_input_NEW'])\n",
    "                    ],\n",
    "                    'done': False,\n",
    "                }\n",
    "                trajectory.append(transition)\n",
    "            \n",
    "            t = len(g)-1\n",
    "            trajectory.append({\n",
    "                's': g.loc[t, state_features].values, \n",
    "                'a': action_map[\n",
    "                    int(g.loc[t, 'iv_input_NEW']),\n",
    "                    int(g.loc[t, 'vaso_input_NEW'])\n",
    "                ], \n",
    "                'r': g.loc[t, 'terminal_reward'],\n",
    "                's_': None, \n",
    "                'a_': None,\n",
    "                'done': True,\n",
    "            })\n",
    "#             print(trajectory)\n",
    "            trajectories.append(trajectory)\n",
    "        except:\n",
    "            print(i)\n",
    "            display(g)\n",
    "            raise\n",
    "    return trajectories"
   ]
  },
  {
   "cell_type": "code",
   "execution_count": 9,
   "metadata": {},
   "outputs": [
    {
     "name": "stderr",
     "output_type": "stream",
     "text": [
      "100%|██████████| 2094/2094 [00:55<00:00, 37.88it/s]\n"
     ]
    }
   ],
   "source": [
    "# VAL\n",
    "traj_va = make_trajectories(pd.read_csv('../data/rl_val_set_scaled.csv'))\n",
    "pkl.dump(traj_va, open('traj_va.pkl', 'wb'))"
   ]
  },
  {
   "cell_type": "code",
   "execution_count": 10,
   "metadata": {},
   "outputs": [
    {
     "name": "stderr",
     "output_type": "stream",
     "text": [
      "100%|██████████| 4189/4189 [01:46<00:00, 39.26it/s]\n"
     ]
    }
   ],
   "source": [
    "# TEST\n",
    "traj_te = make_trajectories(pd.read_csv('../data/rl_test_set_scaled.csv'))\n",
    "pkl.dump(traj_te, open('traj_te.pkl', 'wb'))"
   ]
  },
  {
   "cell_type": "code",
   "execution_count": 11,
   "metadata": {},
   "outputs": [
    {
     "name": "stderr",
     "output_type": "stream",
     "text": [
      "100%|██████████| 14657/14657 [06:34<00:00, 37.17it/s]\n"
     ]
    }
   ],
   "source": [
    "# TRAIN\n",
    "traj_tr = make_trajectories(pd.read_csv('../data/rl_train_set_scaled.csv'))\n",
    "pkl.dump(traj_tr, open('traj_tr.pkl', 'wb'))"
   ]
  },
  {
   "cell_type": "code",
   "execution_count": null,
   "metadata": {},
   "outputs": [],
   "source": []
  }
 ],
 "metadata": {
  "kernelspec": {
   "display_name": "Python 3",
   "language": "python",
   "name": "python3"
  },
  "language_info": {
   "codemirror_mode": {
    "name": "ipython",
    "version": 3
   },
   "file_extension": ".py",
   "mimetype": "text/x-python",
   "name": "python",
   "nbconvert_exporter": "python",
   "pygments_lexer": "ipython3",
   "version": "3.7.4"
  }
 },
 "nbformat": 4,
 "nbformat_minor": 4
}
