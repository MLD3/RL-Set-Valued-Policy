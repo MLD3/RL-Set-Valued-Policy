{
 "cells": [
  {
   "cell_type": "code",
   "execution_count": 1,
   "metadata": {},
   "outputs": [],
   "source": [
    "import pickle as pkl\n",
    "import numpy as np\n",
    "import matplotlib.pyplot as plt\n",
    "from tqdm import tnrange, tqdm\n",
    "import seaborn as sns\n",
    "from joblib import dump, load\n",
    "import pandas as pd\n",
    "import argparse"
   ]
  },
  {
   "cell_type": "code",
   "execution_count": 2,
   "metadata": {},
   "outputs": [],
   "source": [
    "# define an action mapping - how to get an id representing the action from the (iv,vaso) tuple\n",
    "action_map = {(iv, vaso): 5*iv+vaso for iv in range(5) for vaso in range(5)}"
   ]
  },
  {
   "cell_type": "code",
   "execution_count": null,
   "metadata": {},
   "outputs": [],
   "source": [
    "## OLD action space"
   ]
  },
  {
   "cell_type": "code",
   "execution_count": 3,
   "metadata": {},
   "outputs": [],
   "source": [
    "def make_trajectories(df):\n",
    "    trajectories = []\n",
    "    for i, g in tqdm(df.groupby('icustayid')):\n",
    "        try:\n",
    "            g = g.reset_index(drop=True)\n",
    "            trajectory = []\n",
    "            for t in range(len(g)-1):\n",
    "                transition = {\n",
    "                    's': g.loc[t, 'state'], \n",
    "                    'a': action_map[\n",
    "                        int(g.loc[t, 'iv_input']),\n",
    "                        int(g.loc[t, 'vaso_input'])\n",
    "                    ], \n",
    "                    'r': g.loc[t, 'reward'],\n",
    "                    's_': g.loc[t+1, 'state'], \n",
    "                    'a_': action_map[\n",
    "                        int(g.loc[t+1, 'iv_input']),\n",
    "                        int(g.loc[t+1, 'vaso_input'])\n",
    "                    ], \n",
    "                    'done': False,\n",
    "                }\n",
    "                trajectory.append(transition)\n",
    "            \n",
    "            t = len(g)-1\n",
    "            trajectory.append({\n",
    "                's': g.loc[t, 'state'], \n",
    "                'a': action_map[\n",
    "                    int(g.loc[t, 'iv_input']),\n",
    "                    int(g.loc[t, 'vaso_input'])\n",
    "                ], \n",
    "                'r': g.loc[t, 'reward'],\n",
    "                's_': None, \n",
    "                'a_': None,\n",
    "                'done': True,\n",
    "            })\n",
    "#             print(trajectory)\n",
    "            trajectories.append(trajectory)\n",
    "        except:\n",
    "            print(i)\n",
    "            display(g)\n",
    "            raise\n",
    "    return trajectories"
   ]
  },
  {
   "cell_type": "code",
   "execution_count": 4,
   "metadata": {},
   "outputs": [
    {
     "name": "stderr",
     "output_type": "stream",
     "text": [
      "100%|██████████| 2094/2094 [00:03<00:00, 562.45it/s]\n"
     ]
    }
   ],
   "source": [
    "# VAL\n",
    "traj_va = make_trajectories(pd.read_csv('../data/rl_val_data_discrete.csv'))\n",
    "pkl.dump(traj_va, open('trajD_OLD_va.pkl', 'wb'))"
   ]
  },
  {
   "cell_type": "code",
   "execution_count": 5,
   "metadata": {},
   "outputs": [
    {
     "name": "stderr",
     "output_type": "stream",
     "text": [
      "100%|██████████| 4189/4189 [00:08<00:00, 512.19it/s]\n"
     ]
    }
   ],
   "source": [
    "# TEST\n",
    "traj_te = make_trajectories(pd.read_csv('../data/rl_test_data_discrete.csv'))\n",
    "pkl.dump(traj_te, open('trajD_OLD_te.pkl', 'wb'))"
   ]
  },
  {
   "cell_type": "code",
   "execution_count": 6,
   "metadata": {},
   "outputs": [
    {
     "name": "stderr",
     "output_type": "stream",
     "text": [
      "100%|██████████| 14657/14657 [00:27<00:00, 533.13it/s]\n"
     ]
    }
   ],
   "source": [
    "# TRAIN\n",
    "traj_tr = make_trajectories(pd.read_csv('../data/rl_train_data_discrete.csv'))\n",
    "pkl.dump(traj_tr, open('trajD_OLD_tr.pkl', 'wb'))"
   ]
  },
  {
   "cell_type": "code",
   "execution_count": null,
   "metadata": {},
   "outputs": [],
   "source": [
    "## NEW action space"
   ]
  },
  {
   "cell_type": "code",
   "execution_count": 7,
   "metadata": {},
   "outputs": [],
   "source": [
    "def make_trajectories(df):\n",
    "    trajectories = []\n",
    "    for i, g in tqdm(df.groupby('icustayid')):\n",
    "        try:\n",
    "            g = g.reset_index(drop=True)\n",
    "            trajectory = []\n",
    "            for t in range(len(g)-1):\n",
    "                transition = {\n",
    "                    's': g.loc[t, 'state'], \n",
    "                    'a': action_map[\n",
    "                        int(g.loc[t, 'iv_input_NEW']),\n",
    "                        int(g.loc[t, 'vaso_input_NEW'])\n",
    "                    ], \n",
    "                    'r': g.loc[t, 'reward'],\n",
    "                    's_': g.loc[t+1, 'state'], \n",
    "                    'a_': action_map[\n",
    "                        int(g.loc[t+1, 'iv_input_NEW']),\n",
    "                        int(g.loc[t+1, 'vaso_input_NEW'])\n",
    "                    ], \n",
    "                    'done': False,\n",
    "                }\n",
    "                trajectory.append(transition)\n",
    "            \n",
    "            t = len(g)-1\n",
    "            trajectory.append({\n",
    "                's': g.loc[t, 'state'], \n",
    "                'a': action_map[\n",
    "                    int(g.loc[t, 'iv_input_NEW']),\n",
    "                    int(g.loc[t, 'vaso_input_NEW'])\n",
    "                ], \n",
    "                'r': g.loc[t, 'reward'],\n",
    "                's_': None, \n",
    "                'a_': None,\n",
    "                'done': True,\n",
    "            })\n",
    "#             print(trajectory)\n",
    "            trajectories.append(trajectory)\n",
    "        except:\n",
    "            print(i)\n",
    "            display(g)\n",
    "            raise\n",
    "    return trajectories"
   ]
  },
  {
   "cell_type": "code",
   "execution_count": 8,
   "metadata": {},
   "outputs": [
    {
     "name": "stderr",
     "output_type": "stream",
     "text": [
      "100%|██████████| 2094/2094 [00:03<00:00, 581.68it/s]\n"
     ]
    }
   ],
   "source": [
    "# VAL\n",
    "traj_va = make_trajectories(pd.read_csv('../data/rl_val_data_discrete.csv'))\n",
    "pkl.dump(traj_va, open('trajD_va.pkl', 'wb'))"
   ]
  },
  {
   "cell_type": "code",
   "execution_count": 9,
   "metadata": {},
   "outputs": [
    {
     "name": "stderr",
     "output_type": "stream",
     "text": [
      "100%|██████████| 4189/4189 [00:07<00:00, 556.25it/s]\n"
     ]
    }
   ],
   "source": [
    "# TEST\n",
    "traj_te = make_trajectories(pd.read_csv('../data/rl_test_data_discrete.csv'))\n",
    "pkl.dump(traj_te, open('trajD_te.pkl', 'wb'))"
   ]
  },
  {
   "cell_type": "code",
   "execution_count": 10,
   "metadata": {},
   "outputs": [
    {
     "name": "stderr",
     "output_type": "stream",
     "text": [
      "100%|██████████| 14657/14657 [00:26<00:00, 553.02it/s]\n"
     ]
    }
   ],
   "source": [
    "# TRAIN\n",
    "traj_tr = make_trajectories(pd.read_csv('../data/rl_train_data_discrete.csv'))\n",
    "pkl.dump(traj_tr, open('trajD_tr.pkl', 'wb'))"
   ]
  },
  {
   "cell_type": "code",
   "execution_count": null,
   "metadata": {},
   "outputs": [],
   "source": []
  }
 ],
 "metadata": {
  "kernelspec": {
   "display_name": "Python 3",
   "language": "python",
   "name": "python3"
  },
  "language_info": {
   "codemirror_mode": {
    "name": "ipython",
    "version": 3
   },
   "file_extension": ".py",
   "mimetype": "text/x-python",
   "name": "python",
   "nbconvert_exporter": "python",
   "pygments_lexer": "ipython3",
   "version": "3.7.4"
  }
 },
 "nbformat": 4,
 "nbformat_minor": 4
}
