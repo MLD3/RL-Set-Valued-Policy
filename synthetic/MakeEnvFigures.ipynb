{
 "cells": [
  {
   "cell_type": "code",
   "execution_count": 1,
   "metadata": {},
   "outputs": [],
   "source": [
    "import numpy as np\n",
    "import pandas as pd"
   ]
  },
  {
   "cell_type": "code",
   "execution_count": 2,
   "metadata": {},
   "outputs": [],
   "source": [
    "import matplotlib.pyplot as plt\n",
    "import matplotlib.patches as patches"
   ]
  },
  {
   "cell_type": "code",
   "execution_count": 3,
   "metadata": {},
   "outputs": [],
   "source": [
    "import matplotlib\n",
    "# matplotlib.rcParams['pdf.fonttype'] = 42\n",
    "# matplotlib.rcParams['ps.fonttype'] = 42\n",
    "matplotlib.rcParams['text.usetex'] = True\n",
    "# matplotlib.rcParams['font.sans-serif'] = 'Helvetica, Avant Garde, Computer Modern Sans serif'"
   ]
  },
  {
   "cell_type": "code",
   "execution_count": 4,
   "metadata": {},
   "outputs": [],
   "source": [
    "nS, nA = 5,4\n",
    "Q = np.zeros((nS, nA))\n",
    "grid_size=(1,nS)\n",
    "S_terminal = [0, nS-1]\n",
    "\n",
    "data = []\n",
    "for row in range(grid_size[0]):\n",
    "    for col in range(grid_size[1]):\n",
    "        s = row * grid_size[1] + col\n",
    "        data.append([col, row])\n",
    "data = pd.DataFrame(data, columns=['x', 'y'])\n",
    "\n",
    "annot = ['$s_{}$'.format(i) for i in range(1,1+nS)]"
   ]
  },
  {
   "cell_type": "code",
   "execution_count": 5,
   "metadata": {},
   "outputs": [
    {
     "data": {
      "image/png": "[encoded data removed]",
      "text/plain": [
       "<Figure size 288x43.2 with 1 Axes>"
      ]
     },
     "metadata": {
      "needs_background": "light"
     },
     "output_type": "display_data"
    }
   ],
   "source": [
    "plt.figure(figsize=(nS-1,0.6))\n",
    "plt.scatter(data['x'], data['y'], s=250, facecolors='none', edgecolors='k')\n",
    "plt.axis('off')\n",
    "plt.xlim(-0.25, nS-0.75)\n",
    "plt.ylim(-0.6, 0.6)\n",
    "\n",
    "for i, txt in enumerate(annot):\n",
    "    plt.gca().annotate(txt, (data['x'][i], data['y'][i]), ha='center', va='center')\n",
    "\n",
    "style=\"Simple,tail_width=0.2,head_width=3,head_length=5\"\n",
    "kw = dict(arrowstyle=style, color=\"k\", lw=0.6)\n",
    "\n",
    "offset = 0.125\n",
    "for s in range(nS-1):\n",
    "    a = patches.FancyArrowPatch((s+offset, 0), (s+1 - offset, 0),connectionstyle=\"arc3,rad=-.2\", **kw)\n",
    "    plt.gca().add_patch(a)\n",
    "    a = patches.FancyArrowPatch((s+offset, 0+offset), (s+1 - offset,0 +offset),connectionstyle=\"arc3,rad=-.5\", **kw)\n",
    "    plt.gca().add_patch(a)\n",
    "    a = patches.FancyArrowPatch((s+offset, 0), (s+1 - offset, 0),connectionstyle=\"arc3,rad=.2\", **kw)\n",
    "    plt.gca().add_patch(a)\n",
    "    a = patches.FancyArrowPatch((s+offset, 0-offset), (s+1 - offset,0 -offset),connectionstyle=\"arc3,rad=.5\", **kw)\n",
    "    plt.gca().add_patch(a)\n",
    "\n",
    "# plt.tight_layout()\n",
    "plt.savefig('figures/chain_{}.pdf'.format(nS), bbox_inches='tight', pad_inches=0)\n",
    "plt.show()"
   ]
  },
  {
   "cell_type": "code",
   "execution_count": 6,
   "metadata": {},
   "outputs": [
    {
     "data": {
      "image/png": "[encoded data removed]",
      "text/plain": [
       "<Figure size 288x43.2 with 1 Axes>"
      ]
     },
     "metadata": {
      "needs_background": "light"
     },
     "output_type": "display_data"
    }
   ],
   "source": [
    "plt.figure(figsize=(nS-1,0.6))\n",
    "plt.scatter(data['x'], data['y'], s=250, facecolors='none', edgecolors='k')\n",
    "plt.axis('off')\n",
    "plt.xlim(-0.25, nS-0.75)\n",
    "plt.ylim(-0.6, 0.6)\n",
    "\n",
    "for i, txt in enumerate(annot):\n",
    "    plt.gca().annotate(txt, (data['x'][i], data['y'][i]), ha='center', va='center')\n",
    "\n",
    "style=\"Simple,tail_width=0.2,head_width=3,head_length=5\"\n",
    "kw = dict(arrowstyle=style, color=\"k\", lw=0.6)\n",
    "\n",
    "offset = 0.125\n",
    "for s in range(nS-1):\n",
    "    a = patches.FancyArrowPatch((s+offset, 0), (s+1 - offset, 0),connectionstyle=\"arc3,rad=-.2\", **kw)\n",
    "    plt.gca().add_patch(a)\n",
    "    a = patches.FancyArrowPatch((s+offset, 0+offset), (s+1 - offset,0 +offset),connectionstyle=\"arc3,rad=-.5\", **kw)\n",
    "    plt.gca().add_patch(a)\n",
    "\n",
    "for s in range(nS-2):\n",
    "    a = patches.FancyArrowPatch((s+1 - offset, 0),(s+offset, 0), connectionstyle=\"arc3,rad=-.2\", **kw)\n",
    "    plt.gca().add_patch(a)\n",
    "    a = patches.FancyArrowPatch((s+1 - offset,0 -offset),(s+offset, 0-offset), connectionstyle=\"arc3,rad=-.5\", **kw)\n",
    "    plt.gca().add_patch(a)\n",
    "\n",
    "# plt.tight_layout()\n",
    "plt.savefig('figures/cycchain_{}.pdf'.format(nS), bbox_inches='tight', pad_inches=0)\n",
    "plt.show()"
   ]
  },
  {
   "cell_type": "code",
   "execution_count": 7,
   "metadata": {},
   "outputs": [
    {
     "data": {
      "image/png": "[encoded data removed]",
      "text/plain": [
       "<Figure size 288x144 with 1 Axes>"
      ]
     },
     "metadata": {
      "needs_background": "light"
     },
     "output_type": "display_data"
    }
   ],
   "source": [
    "plt.figure(figsize=(nS-1,2))\n",
    "plt.scatter(data['x'], data['y'], s=250, facecolors='none', edgecolors='k')\n",
    "plt.axis('off')\n",
    "plt.xlim(-0.25, nS-0.75)\n",
    "plt.ylim(-1, 1)\n",
    "\n",
    "for i, txt in enumerate(annot):\n",
    "    plt.gca().annotate(txt, (data['x'][i], data['y'][i]), ha='center', va='center')\n",
    "\n",
    "style=\"Simple,tail_width=0.2,head_width=3,head_length=5\"\n",
    "kw = dict(arrowstyle=style, color=\"k\", lw=0.6)\n",
    "\n",
    "offset = 0.125\n",
    "\n",
    "s = 3\n",
    "a = patches.FancyArrowPatch((s+offset, 0), (s+1 - offset, 0),connectionstyle=\"arc3,rad=-.2\", **kw)\n",
    "plt.gca().add_patch(a)\n",
    "a = patches.FancyArrowPatch((s+offset, 0+offset), (s+1 - offset,0 +offset),connectionstyle=\"arc3,rad=-.5\", **kw)\n",
    "plt.gca().add_patch(a)\n",
    "a = patches.FancyArrowPatch((s+offset, 0), (s+1 - offset, 0),connectionstyle=\"arc3,rad=.2\", **kw)\n",
    "plt.gca().add_patch(a)\n",
    "a = patches.FancyArrowPatch((s+offset, 0-offset), (s+1 - offset,0 -offset),connectionstyle=\"arc3,rad=.5\", **kw)\n",
    "plt.gca().add_patch(a)\n",
    "\n",
    "s = 2\n",
    "a = patches.FancyArrowPatch((s+offset, 0), (s+1 - offset, 0),connectionstyle=\"arc3,rad=0\", **kw)\n",
    "plt.gca().add_patch(a)\n",
    "a = patches.FancyArrowPatch((s+offset, 0-offset), (s+2 - offset,0 -offset),connectionstyle=\"arc3,rad=.5\", **kw)\n",
    "plt.gca().add_patch(a)\n",
    "a = patches.FancyArrowPatch((s+offset, 0+offset), (s+2 - offset,0 +offset),connectionstyle=\"arc3,rad=-.5\", **kw)\n",
    "plt.gca().add_patch(a)\n",
    "a = patches.FancyArrowPatch((s+offset, 0+offset), (s+2 - offset,0 +offset),connectionstyle=\"arc3,rad=-.25\", **kw)\n",
    "plt.gca().add_patch(a)\n",
    "\n",
    "s = 1\n",
    "a = patches.FancyArrowPatch((s+offset, 0), (s+1 - offset, 0),connectionstyle=\"arc3,rad=-.2\", **kw)\n",
    "plt.gca().add_patch(a)\n",
    "a = patches.FancyArrowPatch((s+offset, 0), (s+1 - offset, 0),connectionstyle=\"arc3,rad=.2\", **kw)\n",
    "plt.gca().add_patch(a)\n",
    "a = patches.FancyArrowPatch((s+offset, 0+offset), (s+2 - offset,0 +offset),connectionstyle=\"arc3,rad=-.2\", **kw)\n",
    "plt.gca().add_patch(a)\n",
    "a = patches.FancyArrowPatch((s+offset, 0-offset), (s+3 - offset,0 -offset),connectionstyle=\"arc3,rad=.25\", **kw)\n",
    "plt.gca().add_patch(a)\n",
    "\n",
    "s = 0\n",
    "a = patches.FancyArrowPatch((s+offset, 0), (s+1 - offset, 0),connectionstyle=\"arc3,rad=0\", **kw)\n",
    "plt.gca().add_patch(a)\n",
    "a = patches.FancyArrowPatch((s+offset, 0-offset), (s+3 - offset,0 -offset),connectionstyle=\"arc3,rad=.4\", **kw)\n",
    "plt.gca().add_patch(a)\n",
    "a = patches.FancyArrowPatch((s+offset, 0+offset), (s+4 - offset,0 +offset),connectionstyle=\"arc3,rad=-.4\", **kw)\n",
    "plt.gca().add_patch(a)\n",
    "a = patches.FancyArrowPatch((s+offset, 0+offset), (s+2 - offset,0 +offset),connectionstyle=\"arc3,rad=-.25\", **kw)\n",
    "plt.gca().add_patch(a)\n",
    "\n",
    "# plt.tight_layout()\n",
    "plt.savefig('figures/randDAG.pdf', bbox_inches='tight', pad_inches=0)\n",
    "plt.show()"
   ]
  },
  {
   "cell_type": "code",
   "execution_count": 8,
   "metadata": {},
   "outputs": [
    {
     "data": {
      "image/png": "[encoded data removed]",
      "text/plain": [
       "<Figure size 216x216 with 1 Axes>"
      ]
     },
     "metadata": {
      "needs_background": "light"
     },
     "output_type": "display_data"
    }
   ],
   "source": [
    "fig, ax = plt.subplots(figsize=(3,3))\n",
    "plt.xlim(0,4)\n",
    "plt.ylim(0,4)\n",
    "plt.grid(c='k')\n",
    "plt.xticks([0,1,2,3,4])\n",
    "plt.yticks([0,1,2,3,4])\n",
    "ax.set_xticklabels([])\n",
    "ax.set_yticklabels([])\n",
    "ax.tick_params(length=0)\n",
    "plt.text(0.5, 3.5, 'S', fontsize=24, ha='center', va='center')\n",
    "plt.text(3.5, 0.5, 'G', fontsize=24, ha='center', va='center')\n",
    "\n",
    "rect = patches.Rectangle((0,0),1,1,linewidth=1,edgecolor='k',facecolor='k')\n",
    "ax.add_patch(rect)\n",
    "rect = patches.Rectangle((3,1),1,1,linewidth=1,edgecolor='k',facecolor='k')\n",
    "ax.add_patch(rect)\n",
    "rect = patches.Rectangle((3,2),1,1,linewidth=1,edgecolor='k',facecolor='k')\n",
    "ax.add_patch(rect)\n",
    "rect = patches.Rectangle((1,2),1,1,linewidth=1,edgecolor='k',facecolor='k')\n",
    "ax.add_patch(rect)\n",
    "\n",
    "plt.savefig('figures/lake4x4.pdf')\n",
    "plt.show()"
   ]
  },
  {
   "cell_type": "code",
   "execution_count": null,
   "metadata": {},
   "outputs": [],
   "source": []
  }
 ],
 "metadata": {
  "kernelspec": {
   "display_name": "Python 3",
   "language": "python",
   "name": "python3"
  },
  "language_info": {
   "codemirror_mode": {
    "name": "ipython",
    "version": 3
   },
   "file_extension": ".py",
   "mimetype": "text/x-python",
   "name": "python",
   "nbconvert_exporter": "python",
   "pygments_lexer": "ipython3",
   "version": "3.7.7"
  }
 },
 "nbformat": 4,
 "nbformat_minor": 4
}
