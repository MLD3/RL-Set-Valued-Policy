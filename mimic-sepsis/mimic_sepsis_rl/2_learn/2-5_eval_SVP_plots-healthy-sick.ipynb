{
 "cells": [
  {
   "cell_type": "code",
   "execution_count": 1,
   "metadata": {},
   "outputs": [],
   "source": [
    "import numpy as np\n",
    "import pandas as pd\n",
    "import pickle\n",
    "import matplotlib.pyplot as plt\n",
    "import matplotlib.patches as patches\n",
    "import seaborn as sns\n",
    "from collections import Counter, defaultdict"
   ]
  },
  {
   "cell_type": "code",
   "execution_count": 2,
   "metadata": {},
   "outputs": [],
   "source": [
    "import matplotlib\n",
    "matplotlib.rcParams['text.usetex'] = True"
   ]
  },
  {
   "cell_type": "code",
   "execution_count": 3,
   "metadata": {},
   "outputs": [],
   "source": [
    "nS, nA = 750, 25\n",
    "gamma = 0.99\n",
    "tol = 1e-10"
   ]
  },
  {
   "cell_type": "code",
   "execution_count": 4,
   "metadata": {},
   "outputs": [],
   "source": [
    "# mask out actions that clinicians never taken\n",
    "Q_mask = np.load('action_mask.npy')"
   ]
  },
  {
   "cell_type": "code",
   "execution_count": 5,
   "metadata": {},
   "outputs": [],
   "source": [
    "traj_te = pickle.load(open('trajDr_te.pkl', 'rb'))\n",
    "# traj_te += pickle.load(open('trajD_va.pkl', 'rb'))\n",
    "# traj_te = pickle.load(open('trajD_tr.pkl', 'rb'))\n",
    "\n",
    "trajectories = traj_te"
   ]
  },
  {
   "cell_type": "code",
   "execution_count": 6,
   "metadata": {},
   "outputs": [],
   "source": [
    "states_te = []\n",
    "for traj in trajectories:\n",
    "    for transition in traj:\n",
    "        states_te.append(transition['s'])"
   ]
  },
  {
   "cell_type": "code",
   "execution_count": 7,
   "metadata": {},
   "outputs": [
    {
     "data": {
      "text/plain": [
       "55315"
      ]
     },
     "execution_count": 7,
     "metadata": {},
     "output_type": "execute_result"
    }
   ],
   "source": [
    "len(states_te)"
   ]
  },
  {
   "cell_type": "markdown",
   "metadata": {},
   "source": [
    "## set-valued policy"
   ]
  },
  {
   "cell_type": "code",
   "execution_count": 8,
   "metadata": {},
   "outputs": [],
   "source": [
    "Q_star = np.load('qlearn_Q.npy')\n",
    "V_star = np.nanmax(Q_star, axis=1)\n",
    "π_star = np.nanargmax(Q_star, axis=1)"
   ]
  },
  {
   "cell_type": "code",
   "execution_count": 9,
   "metadata": {},
   "outputs": [],
   "source": [
    "def construct_SVP(Q_pi, Q_star, zeta):\n",
    "    # Construct the SVP\n",
    "    # Dictionary of {s: [a1, a2, ...]}\n",
    "    pi_svp = {}\n",
    "    for s in range(nS):\n",
    "        Q_cutoff = min(V_star[s], (1-zeta) * V_star[s]) # lower bound for future return\n",
    "        Pi_s = np.argwhere(\n",
    "            np.where(Q_mask[s], Q_pi[s], -np.inf) > Q_cutoff\n",
    "        )\n",
    "        if len(Pi_s) > 0:\n",
    "            assert not np.isnan(Q_pi[s][Pi_s]).all()\n",
    "            pi_svp[s] = list(Pi_s.flatten())\n",
    "        else:\n",
    "            pi_svp[s] = [np.nanargmax(Q_pi[s])] # fall back to the greedy action\n",
    "\n",
    "    # Tabular form, SxA, (s,a)=1 if a is included in π(s)\n",
    "    PI_svp = np.zeros((nS, nA), dtype=int)\n",
    "    for s, pi_s in pi_svp.items():\n",
    "        for a in pi_s:\n",
    "            PI_svp[s,a] = 1\n",
    "    \n",
    "    return pi_svp, PI_svp"
   ]
  },
  {
   "cell_type": "code",
   "execution_count": 10,
   "metadata": {},
   "outputs": [],
   "source": [
    "zeta_range = [0.0,\n",
    "              0.01, 0.02, 0.03, 0.04, 0.05,\n",
    "              0.06, 0.07, 0.08, 0.09, 0.10,\n",
    "             ]"
   ]
  },
  {
   "cell_type": "code",
   "execution_count": 11,
   "metadata": {},
   "outputs": [],
   "source": [
    "# Near-greedy\n",
    "πs_dict = {}\n",
    "πs = {}\n",
    "Qs = {}\n",
    "for zeta in zeta_range:\n",
    "    Q_pi = np.load('output_ql/svp_near-greedy_Q_gamma=0.99_zeta={}.npy'.format(zeta))\n",
    "    pi_svp, PI_svp = construct_SVP(Q_pi, Q_star, zeta)\n",
    "    πs_dict[zeta] = pi_svp\n",
    "    πs[zeta] = PI_svp\n",
    "    Qs[zeta] = Q_pi"
   ]
  },
  {
   "cell_type": "markdown",
   "metadata": {},
   "source": [
    "## Group by V*"
   ]
  },
  {
   "cell_type": "code",
   "execution_count": 13,
   "metadata": {},
   "outputs": [],
   "source": [
    "π = πs_dict[0.05]"
   ]
  },
  {
   "cell_type": "code",
   "execution_count": 17,
   "metadata": {},
   "outputs": [],
   "source": [
    "c = pd.qcut(V_star, q=4)"
   ]
  },
  {
   "cell_type": "code",
   "execution_count": 18,
   "metadata": {},
   "outputs": [],
   "source": [
    "state_categories = defaultdict(list)\n",
    "for s, cat in enumerate(c.codes):\n",
    "    state_categories[cat].append(s)"
   ]
  },
  {
   "cell_type": "code",
   "execution_count": 19,
   "metadata": {},
   "outputs": [],
   "source": [
    "average_psizes = []\n",
    "for cat in range(4):\n",
    "    psize_ = np.mean([len(acts) for s, acts in π.items() if s in state_categories[cat]])\n",
    "    average_psizes.append(psize_)"
   ]
  },
  {
   "cell_type": "code",
   "execution_count": 20,
   "metadata": {},
   "outputs": [
    {
     "data": {
      "image/png": "[encoded data removed]",
      "text/plain": [
       "<Figure size 288x216 with 1 Axes>"
      ]
     },
     "metadata": {
      "needs_background": "light"
     },
     "output_type": "display_data"
    }
   ],
   "source": [
    "fig = plt.figure(figsize=(4,3))\n",
    "ax = sns.barplot(list(c.categories), average_psizes, palette=\"Blues_d\", alpha=0.9)\n",
    "ax.set_axisbelow(True)\n",
    "plt.grid(axis='y')\n",
    "plt.setp(ax.get_xticklabels(), rotation=30, ha='right', rotation_mode=\"anchor\")\n",
    "plt.xlabel('$V^*(s)$')\n",
    "plt.ylabel('average policy size')\n",
    "plt.savefig('fig/Vstar_psize.pdf', bbox_inches='tight')\n",
    "plt.show()"
   ]
  },
  {
   "cell_type": "code",
   "execution_count": 28,
   "metadata": {},
   "outputs": [
    {
     "data": {
      "image/png": "[encoded data removed]",
      "text/plain": [
       "<Figure size 288x216 with 1 Axes>"
      ]
     },
     "metadata": {
      "needs_background": "light"
     },
     "output_type": "display_data"
    }
   ],
   "source": [
    "fig = plt.figure(figsize=(4,3))\n",
    "ax = sns.barplot(['({:.2f}, {:.2f}]'.format(cat.left, cat.right) for cat in list(c.categories)], average_psizes, palette=\"Blues_d\", alpha=0.9)\n",
    "ax.set_axisbelow(True)\n",
    "plt.grid(axis='y')\n",
    "plt.setp(ax.get_xticklabels(), rotation=30, ha='right', rotation_mode=\"anchor\")\n",
    "plt.xlabel('$V^*(s)$')\n",
    "plt.ylabel('average policy size')\n",
    "plt.savefig('fig/Vstar_psize.pdf', bbox_inches='tight')\n",
    "plt.show()"
   ]
  },
  {
   "cell_type": "code",
   "execution_count": null,
   "metadata": {},
   "outputs": [],
   "source": []
  },
  {
   "cell_type": "code",
   "execution_count": 7,
   "metadata": {},
   "outputs": [],
   "source": [
    "states_te_died, states_te_surv = [], []\n",
    "for traj in trajectories:\n",
    "    r = traj[-1]['r']\n",
    "    for transition in traj:\n",
    "        if r == 100:\n",
    "            states_te_surv.append(transition['s'])\n",
    "        elif r == -100:\n",
    "            states_te_died.append(transition['s'])\n",
    "        else:\n",
    "            assert False"
   ]
  },
  {
   "cell_type": "code",
   "execution_count": null,
   "metadata": {},
   "outputs": [],
   "source": []
  }
 ],
 "metadata": {
  "kernelspec": {
   "display_name": "Python 3",
   "language": "python",
   "name": "python3"
  },
  "language_info": {
   "codemirror_mode": {
    "name": "ipython",
    "version": 3
   },
   "file_extension": ".py",
   "mimetype": "text/x-python",
   "name": "python",
   "nbconvert_exporter": "python",
   "pygments_lexer": "ipython3",
   "version": "3.7.4"
  }
 },
 "nbformat": 4,
 "nbformat_minor": 4
}
