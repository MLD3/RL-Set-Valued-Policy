{
 "cells": [
  {
   "cell_type": "code",
   "execution_count": 1,
   "metadata": {},
   "outputs": [
    {
     "name": "stderr",
     "output_type": "stream",
     "text": [
      "/data4/tangsp/venv/lib/python3.7/site-packages/statsmodels/tools/_testing.py:19: FutureWarning: pandas.util.testing is deprecated. Use the functions in the public API at pandas.testing instead.\n",
      "  import pandas.util.testing as tm\n"
     ]
    }
   ],
   "source": [
    "import numpy as np\n",
    "import pandas as pd\n",
    "import pickle\n",
    "import matplotlib.pyplot as plt\n",
    "import matplotlib.patches as patches\n",
    "import seaborn as sns\n",
    "from collections import Counter"
   ]
  },
  {
   "cell_type": "code",
   "execution_count": 2,
   "metadata": {},
   "outputs": [],
   "source": [
    "nS, nA = 750, 25\n",
    "gamma = 0.99\n",
    "tol = 1e-10"
   ]
  },
  {
   "cell_type": "code",
   "execution_count": 3,
   "metadata": {},
   "outputs": [],
   "source": [
    "# mask out actions that clinicians never taken\n",
    "Q_mask = np.load('action_mask.npy')"
   ]
  },
  {
   "cell_type": "code",
   "execution_count": 4,
   "metadata": {},
   "outputs": [],
   "source": [
    "traj_te = pickle.load(open('trajDr_te.pkl', 'rb'))\n",
    "# traj_te += pickle.load(open('trajD_va.pkl', 'rb'))\n",
    "# traj_te = pickle.load(open('trajD_tr.pkl', 'rb'))\n",
    "\n",
    "trajectories = traj_te"
   ]
  },
  {
   "cell_type": "code",
   "execution_count": 5,
   "metadata": {},
   "outputs": [],
   "source": [
    "states_te = []\n",
    "for traj in trajectories:\n",
    "    for transition in traj:\n",
    "        states_te.append(transition['s'])"
   ]
  },
  {
   "cell_type": "code",
   "execution_count": 6,
   "metadata": {},
   "outputs": [
    {
     "data": {
      "text/plain": [
       "55315"
      ]
     },
     "execution_count": 6,
     "metadata": {},
     "output_type": "execute_result"
    }
   ],
   "source": [
    "len(states_te)"
   ]
  },
  {
   "cell_type": "markdown",
   "metadata": {},
   "source": [
    "## Clinician policy"
   ]
  },
  {
   "cell_type": "code",
   "execution_count": 7,
   "metadata": {},
   "outputs": [],
   "source": [
    "clinician_action_counts = np.zeros(nA, dtype=int)\n",
    "for traj in trajectories:\n",
    "    for transition in traj:\n",
    "        clinician_action_counts[transition['a']] += 1"
   ]
  },
  {
   "cell_type": "code",
   "execution_count": 8,
   "metadata": {},
   "outputs": [
    {
     "data": {
      "text/plain": [
       "array([[14895,   215,    81,    95,   138],\n",
       "       [25317,  1287,  1064,  1181,   722],\n",
       "       [ 4449,   261,   247,   356,   405],\n",
       "       [ 2114,   163,   242,   351,   390],\n",
       "       [  570,    82,   124,   232,   334]])"
      ]
     },
     "execution_count": 8,
     "metadata": {},
     "output_type": "execute_result"
    }
   ],
   "source": [
    "clinician_action_counts.reshape((5,5))"
   ]
  },
  {
   "cell_type": "code",
   "execution_count": 9,
   "metadata": {},
   "outputs": [
    {
     "data": {
      "image/png": "[encoded data removed]",
      "text/plain": [
       "<Figure size 432x288 with 2 Axes>"
      ]
     },
     "metadata": {
      "needs_background": "light"
     },
     "output_type": "display_data"
    }
   ],
   "source": [
    "ax = sns.heatmap(\n",
    "    clinician_action_counts.reshape((5,5)),\n",
    "    square=True,cmap=\"YlGnBu\", linewidths=.1, \n",
    "    xticklabels=5, yticklabels=5, \n",
    ")\n",
    "ax.invert_yaxis()"
   ]
  },
  {
   "cell_type": "markdown",
   "metadata": {},
   "source": [
    "## Learned optimal policy (q-learning)"
   ]
  },
  {
   "cell_type": "code",
   "execution_count": 10,
   "metadata": {},
   "outputs": [],
   "source": [
    "Q_star = np.load('qlearn_Q.npy')\n",
    "V_star = np.nanmax(Q_star, axis=1)"
   ]
  },
  {
   "cell_type": "code",
   "execution_count": 11,
   "metadata": {},
   "outputs": [],
   "source": [
    "π_star = np.nanargmax(Q_star, axis=1)"
   ]
  },
  {
   "cell_type": "code",
   "execution_count": 12,
   "metadata": {},
   "outputs": [],
   "source": [
    "action_counts = np.zeros(nA, dtype=int)\n",
    "for s in states_te:\n",
    "    a = pi_s = π_star[s]\n",
    "    action_counts[a] += 1"
   ]
  },
  {
   "cell_type": "code",
   "execution_count": 13,
   "metadata": {},
   "outputs": [
    {
     "data": {
      "text/plain": [
       "array([[16612,   350,     0,   513,   159],\n",
       "       [ 3379,  3966,  3906,  4813,  2393],\n",
       "       [ 6744,   483,   573,   683,   619],\n",
       "       [ 6464,   372,   248,   528,   767],\n",
       "       [ 1534,     0,     0,     0,   209]])"
      ]
     },
     "execution_count": 13,
     "metadata": {},
     "output_type": "execute_result"
    }
   ],
   "source": [
    "action_counts.reshape((5,5))"
   ]
  },
  {
   "cell_type": "code",
   "execution_count": 14,
   "metadata": {},
   "outputs": [
    {
     "data": {
      "image/png": "[encoded data removed]",
      "text/plain": [
       "<Figure size 432x288 with 2 Axes>"
      ]
     },
     "metadata": {
      "needs_background": "light"
     },
     "output_type": "display_data"
    }
   ],
   "source": [
    "ax = sns.heatmap(\n",
    "    action_counts.reshape((5,5)),\n",
    "    square=True,cmap=\"YlGnBu\", linewidths=.1, \n",
    "    xticklabels=5, yticklabels=5, \n",
    ")\n",
    "ax.invert_yaxis()"
   ]
  },
  {
   "cell_type": "code",
   "execution_count": 15,
   "metadata": {},
   "outputs": [
    {
     "data": {
      "text/plain": [
       "0.3253333333333333"
      ]
     },
     "execution_count": 15,
     "metadata": {},
     "output_type": "execute_result"
    }
   ],
   "source": [
    "((np.nanmax(Q_star, axis=1) - np.nanmin(Q_star, axis=1)) > 10).mean()"
   ]
  },
  {
   "cell_type": "code",
   "execution_count": 47,
   "metadata": {},
   "outputs": [
    {
     "data": {
      "image/png": "[encoded data removed]",
      "text/plain": [
       "<Figure size 216x180 with 1 Axes>"
      ]
     },
     "metadata": {
      "needs_background": "light"
     },
     "output_type": "display_data"
    }
   ],
   "source": [
    "fig = plt.figure(figsize=(3,2.5))\n",
    "plt.hist(V_star[V_star>=80], bins=np.arange(80,100,2))\n",
    "plt.xlabel('$V^*(s)$')\n",
    "plt.ylabel('count')\n",
    "plt.savefig('fig/Vstar_hist.pdf', bbox_inches='tight')\n",
    "plt.show()"
   ]
  },
  {
   "cell_type": "code",
   "execution_count": 49,
   "metadata": {},
   "outputs": [
    {
     "data": {
      "image/png": "[encoded data removed]",
      "text/plain": [
       "<Figure size 216x180 with 1 Axes>"
      ]
     },
     "metadata": {
      "needs_background": "light"
     },
     "output_type": "display_data"
    }
   ],
   "source": [
    "fig = plt.figure(figsize=(3,2.5))\n",
    "plt.hist(V_star)\n",
    "plt.xlabel('$V^*(s)$')\n",
    "plt.ylabel('count')\n",
    "plt.savefig('fig/Vstar_hist.pdf', bbox_inches='tight')\n",
    "plt.show()"
   ]
  },
  {
   "cell_type": "code",
   "execution_count": 51,
   "metadata": {},
   "outputs": [
    {
     "data": {
      "text/plain": [
       "array([ -5.83997783, -12.14504781, -98.30922844, -35.73227893,\n",
       "       -44.38514793, -13.42786999])"
      ]
     },
     "execution_count": 51,
     "metadata": {},
     "output_type": "execute_result"
    }
   ],
   "source": [
    "V_star[V_star < 0]"
   ]
  },
  {
   "cell_type": "code",
   "execution_count": null,
   "metadata": {},
   "outputs": [],
   "source": []
  },
  {
   "cell_type": "code",
   "execution_count": null,
   "metadata": {},
   "outputs": [],
   "source": []
  },
  {
   "cell_type": "markdown",
   "metadata": {},
   "source": [
    "## Learned optimal policy (value iteration)"
   ]
  },
  {
   "cell_type": "code",
   "execution_count": 10,
   "metadata": {},
   "outputs": [],
   "source": [
    "Q_STAR = np.load('value_iter_Q.npy')\n",
    "V_STAR = np.load('value_iter_V.npy')"
   ]
  },
  {
   "cell_type": "code",
   "execution_count": 11,
   "metadata": {},
   "outputs": [],
   "source": [
    "π_STAR = np.nanargmax(Q_STAR, axis=1)"
   ]
  },
  {
   "cell_type": "code",
   "execution_count": 12,
   "metadata": {},
   "outputs": [],
   "source": [
    "action_counts = np.zeros(nA, dtype=int)\n",
    "for s in states_te:\n",
    "    a = pi_s = π_STAR[s]\n",
    "    action_counts[a] += 1"
   ]
  },
  {
   "cell_type": "code",
   "execution_count": 13,
   "metadata": {},
   "outputs": [
    {
     "data": {
      "text/plain": [
       "array([[21407,   234,     0,   460,    71],\n",
       "       [ 4657,  3247,  2798,  3960,  1838],\n",
       "       [ 6571,   403,   238,   665,   279],\n",
       "       [ 5613,   362,   248,   593,   485],\n",
       "       [ 1091,     0,     0,    52,    43]])"
      ]
     },
     "execution_count": 13,
     "metadata": {},
     "output_type": "execute_result"
    }
   ],
   "source": [
    "action_counts.reshape((5,5))"
   ]
  },
  {
   "cell_type": "code",
   "execution_count": 14,
   "metadata": {},
   "outputs": [
    {
     "data": {
      "image/png": "[encoded data removed]",
      "text/plain": [
       "<Figure size 432x288 with 2 Axes>"
      ]
     },
     "metadata": {
      "needs_background": "light"
     },
     "output_type": "display_data"
    }
   ],
   "source": [
    "ax = sns.heatmap(\n",
    "    action_counts.reshape((5,5)),\n",
    "    square=True,cmap=\"YlGnBu\", linewidths=.1, \n",
    "    xticklabels=5, yticklabels=5, \n",
    ")\n",
    "ax.invert_yaxis()"
   ]
  },
  {
   "cell_type": "code",
   "execution_count": 26,
   "metadata": {},
   "outputs": [
    {
     "data": {
      "text/plain": [
       "(array([  1.,   0.,   0.,   0.,   0.,   0.,   0.,   0.,   0.,   0.,   0.,\n",
       "          0.,   0.,   1.,   0.,   1.,   0.,   0.,   0.,   0.,   0.,   0.,\n",
       "          1.,   1.,   2.,   1.,   1.,   0.,   0.,   0.,   0.,   2.,   0.,\n",
       "          1.,   0.,   0.,   1.,   0.,   0.,   0.,   0.,   1.,   2.,   1.,\n",
       "          0.,   0.,   3.,  24., 593., 113.]),\n",
       " array([-0.98039216, -0.94117647, -0.90196078, -0.8627451 , -0.82352941,\n",
       "        -0.78431373, -0.74509804, -0.70588235, -0.66666667, -0.62745098,\n",
       "        -0.58823529, -0.54901961, -0.50980392, -0.47058824, -0.43137255,\n",
       "        -0.39215686, -0.35294118, -0.31372549, -0.2745098 , -0.23529412,\n",
       "        -0.19607843, -0.15686275, -0.11764706, -0.07843137, -0.03921569,\n",
       "         0.        ,  0.03921569,  0.07843137,  0.11764706,  0.15686275,\n",
       "         0.19607843,  0.23529412,  0.2745098 ,  0.31372549,  0.35294118,\n",
       "         0.39215686,  0.43137255,  0.47058824,  0.50980392,  0.54901961,\n",
       "         0.58823529,  0.62745098,  0.66666667,  0.70588235,  0.74509804,\n",
       "         0.78431373,  0.82352941,  0.8627451 ,  0.90196078,  0.94117647,\n",
       "         0.98039216]),\n",
       " <a list of 50 Patch objects>)"
      ]
     },
     "execution_count": 26,
     "metadata": {},
     "output_type": "execute_result"
    },
    {
     "data": {
      "image/png": "[encoded data removed]",
      "text/plain": [
       "<Figure size 432x288 with 1 Axes>"
      ]
     },
     "metadata": {
      "needs_background": "light"
     },
     "output_type": "display_data"
    }
   ],
   "source": [
    "plt.hist(V_STAR, bins=50)"
   ]
  },
  {
   "cell_type": "code",
   "execution_count": null,
   "metadata": {},
   "outputs": [],
   "source": []
  }
 ],
 "metadata": {
  "kernelspec": {
   "display_name": "Python 3",
   "language": "python",
   "name": "python3"
  },
  "language_info": {
   "codemirror_mode": {
    "name": "ipython",
    "version": 3
   },
   "file_extension": ".py",
   "mimetype": "text/x-python",
   "name": "python",
   "nbconvert_exporter": "python",
   "pygments_lexer": "ipython3",
   "version": "3.7.4"
  }
 },
 "nbformat": 4,
 "nbformat_minor": 4
}
